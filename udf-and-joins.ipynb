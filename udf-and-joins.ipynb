{
 "cells": [
  {
   "cell_type": "code",
   "execution_count": 1,
   "metadata": {},
   "outputs": [],
   "source": [
    "player_ds_path  = r'D:/spark_practice/02/demos/datasets/player.csv'\n",
    "player_attr_ds_path  = r'D:/spark_practice/02/demos/datasets/player_attributes.csv'"
   ]
  },
  {
   "cell_type": "code",
   "execution_count": 2,
   "metadata": {},
   "outputs": [],
   "source": [
    "from pyspark.sql import SparkSession\n",
    "spark = SparkSession.builder\\\n",
    "                        .appName(\"Analyzing soccer players\")\\\n",
    "                        .getOrCreate()\n"
   ]
  },
  {
   "cell_type": "code",
   "execution_count": 3,
   "metadata": {},
   "outputs": [],
   "source": [
    "players = spark.read\\\n",
    "                .format('csv')\\\n",
    "                .option('header','true')\\\n",
    "                .load(player_ds_path)"
   ]
  },
  {
   "cell_type": "code",
   "execution_count": 4,
   "metadata": {},
   "outputs": [
    {
     "name": "stdout",
     "output_type": "stream",
     "text": [
      "+---+-------------+------------------+------------------+-------------------+------+------+\n",
      "| id|player_api_id|       player_name|player_fifa_api_id|           birthday|height|weight|\n",
      "+---+-------------+------------------+------------------+-------------------+------+------+\n",
      "|  1|       505942|Aaron Appindangoye|            218353|1992-02-29 00:00:00|182.88|   187|\n",
      "|  2|       155782|   Aaron Cresswell|            189615|1989-12-15 00:00:00|170.18|   146|\n",
      "|  3|       162549|       Aaron Doran|            186170|1991-05-13 00:00:00|170.18|   163|\n",
      "|  4|        30572|     Aaron Galindo|            140161|1982-05-08 00:00:00|182.88|   198|\n",
      "|  5|        23780|      Aaron Hughes|             17725|1979-11-08 00:00:00|182.88|   154|\n",
      "+---+-------------+------------------+------------------+-------------------+------+------+\n",
      "only showing top 5 rows\n",
      "\n"
     ]
    }
   ],
   "source": [
    "players.show(5)"
   ]
  },
  {
   "cell_type": "code",
   "execution_count": 5,
   "metadata": {},
   "outputs": [],
   "source": [
    "player_attribute = spark.read\\\n",
    "                .format('csv')\\\n",
    "                .option('header','true')\\\n",
    "                .load(player_attr_ds_path)"
   ]
  },
  {
   "cell_type": "code",
   "execution_count": 6,
   "metadata": {},
   "outputs": [
    {
     "name": "stdout",
     "output_type": "stream",
     "text": [
      "root\n",
      " |-- id: string (nullable = true)\n",
      " |-- player_fifa_api_id: string (nullable = true)\n",
      " |-- player_api_id: string (nullable = true)\n",
      " |-- date: string (nullable = true)\n",
      " |-- overall_rating: string (nullable = true)\n",
      " |-- potential: string (nullable = true)\n",
      " |-- preferred_foot: string (nullable = true)\n",
      " |-- attacking_work_rate: string (nullable = true)\n",
      " |-- defensive_work_rate: string (nullable = true)\n",
      " |-- crossing: string (nullable = true)\n",
      " |-- finishing: string (nullable = true)\n",
      " |-- heading_accuracy: string (nullable = true)\n",
      " |-- short_passing: string (nullable = true)\n",
      " |-- volleys: string (nullable = true)\n",
      " |-- dribbling: string (nullable = true)\n",
      " |-- curve: string (nullable = true)\n",
      " |-- free_kick_accuracy: string (nullable = true)\n",
      " |-- long_passing: string (nullable = true)\n",
      " |-- ball_control: string (nullable = true)\n",
      " |-- acceleration: string (nullable = true)\n",
      " |-- sprint_speed: string (nullable = true)\n",
      " |-- agility: string (nullable = true)\n",
      " |-- reactions: string (nullable = true)\n",
      " |-- balance: string (nullable = true)\n",
      " |-- shot_power: string (nullable = true)\n",
      " |-- jumping: string (nullable = true)\n",
      " |-- stamina: string (nullable = true)\n",
      " |-- strength: string (nullable = true)\n",
      " |-- long_shots: string (nullable = true)\n",
      " |-- aggression: string (nullable = true)\n",
      " |-- interceptions: string (nullable = true)\n",
      " |-- positioning: string (nullable = true)\n",
      " |-- vision: string (nullable = true)\n",
      " |-- penalties: string (nullable = true)\n",
      " |-- marking: string (nullable = true)\n",
      " |-- standing_tackle: string (nullable = true)\n",
      " |-- sliding_tackle: string (nullable = true)\n",
      " |-- gk_diving: string (nullable = true)\n",
      " |-- gk_handling: string (nullable = true)\n",
      " |-- gk_kicking: string (nullable = true)\n",
      " |-- gk_positioning: string (nullable = true)\n",
      " |-- gk_reflexes: string (nullable = true)\n",
      "\n"
     ]
    }
   ],
   "source": [
    "player_attribute.printSchema()"
   ]
  },
  {
   "cell_type": "code",
   "execution_count": 7,
   "metadata": {},
   "outputs": [
    {
     "data": {
      "text/plain": [
       "(11060, 183978)"
      ]
     },
     "execution_count": 7,
     "metadata": {},
     "output_type": "execute_result"
    }
   ],
   "source": [
    "players.count(), player_attribute.count()"
   ]
  },
  {
   "cell_type": "code",
   "execution_count": 8,
   "metadata": {},
   "outputs": [
    {
     "data": {
      "text/plain": [
       "11060"
      ]
     },
     "execution_count": 8,
     "metadata": {},
     "output_type": "execute_result"
    }
   ],
   "source": [
    "player_attribute.select('player_api_id')\\\n",
    "                .distinct()\\\n",
    "                .count()"
   ]
  },
  {
   "cell_type": "code",
   "execution_count": 9,
   "metadata": {},
   "outputs": [
    {
     "data": {
      "text/plain": [
       "['player_api_id', 'player_name', 'birthday', 'height', 'weight']"
      ]
     },
     "execution_count": 9,
     "metadata": {},
     "output_type": "execute_result"
    }
   ],
   "source": [
    "players = players.drop('id','player_fifa_api_id')\n",
    "players.columns"
   ]
  },
  {
   "cell_type": "code",
   "execution_count": 10,
   "metadata": {},
   "outputs": [
    {
     "data": {
      "text/plain": [
       "['player_api_id',\n",
       " 'date',\n",
       " 'overall_rating',\n",
       " 'finishing',\n",
       " 'heading_accuracy',\n",
       " 'volleys',\n",
       " 'dribbling',\n",
       " 'curve',\n",
       " 'free_kick_accuracy',\n",
       " 'long_passing',\n",
       " 'ball_control',\n",
       " 'acceleration',\n",
       " 'agility',\n",
       " 'reactions',\n",
       " 'shot_power',\n",
       " 'stamina',\n",
       " 'strength',\n",
       " 'long_shots',\n",
       " 'interceptions',\n",
       " 'positioning',\n",
       " 'vision',\n",
       " 'penalties',\n",
       " 'marking',\n",
       " 'standing_tackle',\n",
       " 'sliding_tackle',\n",
       " 'gk_diving',\n",
       " 'gk_handling',\n",
       " 'gk_kicking',\n",
       " 'gk_positioning',\n",
       " 'gk_reflexes']"
      ]
     },
     "execution_count": 10,
     "metadata": {},
     "output_type": "execute_result"
    }
   ],
   "source": [
    "player_attribute = player_attribute.drop(\n",
    "    \"id\",\n",
    "    'player_fifa_api_id',\n",
    "    'preferred_foot',\n",
    "    'attacking_work_rate',\n",
    "    'defensive_work_rate',\n",
    "    'crossing',\n",
    "    'jumping',\n",
    "    'sprint_speed',\n",
    "    'balance',\n",
    "    'aggression',\n",
    "    'short_passing',\n",
    "    'potential'\n",
    ")\n",
    "\n",
    "player_attribute.columns"
   ]
  },
  {
   "cell_type": "code",
   "execution_count": 11,
   "metadata": {},
   "outputs": [],
   "source": [
    "player_attribute = player_attribute.dropna()\n",
    "players = players.dropna()"
   ]
  },
  {
   "cell_type": "code",
   "execution_count": 12,
   "metadata": {},
   "outputs": [],
   "source": [
    "from pyspark.sql.functions import udf"
   ]
  },
  {
   "cell_type": "code",
   "execution_count": 13,
   "metadata": {},
   "outputs": [],
   "source": [
    "year_extract_udf = udf(lambda date : date.split('-')[0])\n",
    "\n",
    "player_attribute = player_attribute.withColumn(\n",
    "    \"year\",\n",
    "    year_extract_udf(player_attribute.date)\n",
    ")"
   ]
  },
  {
   "cell_type": "code",
   "execution_count": 14,
   "metadata": {},
   "outputs": [],
   "source": [
    "player_attribute = player_attribute.drop('date')"
   ]
  },
  {
   "cell_type": "code",
   "execution_count": 15,
   "metadata": {},
   "outputs": [
    {
     "data": {
      "text/plain": [
       "['player_api_id',\n",
       " 'overall_rating',\n",
       " 'finishing',\n",
       " 'heading_accuracy',\n",
       " 'volleys',\n",
       " 'dribbling',\n",
       " 'curve',\n",
       " 'free_kick_accuracy',\n",
       " 'long_passing',\n",
       " 'ball_control',\n",
       " 'acceleration',\n",
       " 'agility',\n",
       " 'reactions',\n",
       " 'shot_power',\n",
       " 'stamina',\n",
       " 'strength',\n",
       " 'long_shots',\n",
       " 'interceptions',\n",
       " 'positioning',\n",
       " 'vision',\n",
       " 'penalties',\n",
       " 'marking',\n",
       " 'standing_tackle',\n",
       " 'sliding_tackle',\n",
       " 'gk_diving',\n",
       " 'gk_handling',\n",
       " 'gk_kicking',\n",
       " 'gk_positioning',\n",
       " 'gk_reflexes',\n",
       " 'year']"
      ]
     },
     "execution_count": 15,
     "metadata": {},
     "output_type": "execute_result"
    }
   ],
   "source": [
    "player_attribute.columns"
   ]
  },
  {
   "cell_type": "code",
   "execution_count": 16,
   "metadata": {},
   "outputs": [],
   "source": [
    "pa_2016 = player_attribute.filter(player_attribute['year']==2016)"
   ]
  },
  {
   "cell_type": "code",
   "execution_count": 17,
   "metadata": {},
   "outputs": [
    {
     "data": {
      "text/plain": [
       "14098"
      ]
     },
     "execution_count": 17,
     "metadata": {},
     "output_type": "execute_result"
    }
   ],
   "source": [
    "pa_2016.count()"
   ]
  },
  {
   "cell_type": "code",
   "execution_count": 18,
   "metadata": {},
   "outputs": [
    {
     "data": {
      "text/plain": [
       "5586"
      ]
     },
     "execution_count": 18,
     "metadata": {},
     "output_type": "execute_result"
    }
   ],
   "source": [
    "pa_2016.select(pa_2016['player_api_id'])\\\n",
    "        .distinct()\\\n",
    "        .count()"
   ]
  },
  {
   "cell_type": "code",
   "execution_count": 19,
   "metadata": {},
   "outputs": [],
   "source": [
    "pa_striker_2016 = pa_2016.groupBy('player_api_id')\\\n",
    "            .agg({\n",
    "    \"finishing\":\"avg\",\n",
    "    \"shot_power\":\"avg\",\n",
    "    \"acceleration\":\"avg\"\n",
    "})"
   ]
  },
  {
   "cell_type": "code",
   "execution_count": 20,
   "metadata": {},
   "outputs": [
    {
     "data": {
      "text/plain": [
       "5586"
      ]
     },
     "execution_count": 20,
     "metadata": {},
     "output_type": "execute_result"
    }
   ],
   "source": [
    "pa_striker_2016.count()"
   ]
  },
  {
   "cell_type": "code",
   "execution_count": 21,
   "metadata": {},
   "outputs": [
    {
     "name": "stdout",
     "output_type": "stream",
     "text": [
      "+-------------+-----------------+-----------------+---------------+\n",
      "|player_api_id|   avg(finishing)|avg(acceleration)|avg(shot_power)|\n",
      "+-------------+-----------------+-----------------+---------------+\n",
      "|       309726|75.44444444444444|74.11111111111111|           76.0|\n",
      "|        26112|             53.0|             51.0|           76.0|\n",
      "|        38433|            68.25|             74.0|           74.0|\n",
      "|       295060|             25.0|             62.0|           40.0|\n",
      "|       161396|             29.0|             72.0|           69.0|\n",
      "+-------------+-----------------+-----------------+---------------+\n",
      "only showing top 5 rows\n",
      "\n"
     ]
    }
   ],
   "source": [
    "pa_striker_2016.show(5)"
   ]
  },
  {
   "cell_type": "code",
   "execution_count": 22,
   "metadata": {},
   "outputs": [],
   "source": [
    "pa_striker_2016 = pa_striker_2016.withColumnRenamed(\"avg(finishing)\", \"finishing\")\\\n",
    "                                    .withColumnRenamed(\"avg(acceleration)\", \"acceleration\")\\\n",
    "                                    .withColumnRenamed(\"avg(shot_power)\", \"shot_power\")"
   ]
  },
  {
   "cell_type": "code",
   "execution_count": 23,
   "metadata": {},
   "outputs": [],
   "source": [
    "weight_finishing = 1\n",
    "weight_shot_power = 2\n",
    "weight_acceleration = 1\n",
    "\n",
    "total_weight = weight_acceleration+weight_finishing+weight_shot_power"
   ]
  },
  {
   "cell_type": "code",
   "execution_count": 41,
   "metadata": {},
   "outputs": [],
   "source": [
    "strikers = pa_striker_2016.withColumn(\"striker_grade\",\n",
    "                                   (pa_striker_2016[\"finishing\"]*weight_finishing+\\\n",
    "                                   pa_striker_2016[\"acceleration\"]*weight_acceleration+\\\n",
    "                                    \n",
    "                                   pa_striker_2016[\"shot_power\"]*weight_shot_power\n",
    "                                   )/total_weight \n",
    "                                   )"
   ]
  },
  {
   "cell_type": "code",
   "execution_count": 42,
   "metadata": {},
   "outputs": [],
   "source": [
    "strikers= strikers.drop('finishing','acceleration','shot_power')"
   ]
  },
  {
   "cell_type": "code",
   "execution_count": 43,
   "metadata": {},
   "outputs": [],
   "source": [
    "strikers = strikers.filter(strikers['striker_grade']>70)"
   ]
  },
  {
   "cell_type": "code",
   "execution_count": 31,
   "metadata": {},
   "outputs": [
    {
     "name": "stdout",
     "output_type": "stream",
     "text": [
      "+-------------+-----------------+\n",
      "|player_api_id|    striker_grade|\n",
      "+-------------+-----------------+\n",
      "|       309726|75.38888888888889|\n",
      "|        38433|          72.5625|\n",
      "|        41157|             82.0|\n",
      "|        40740|           70.375|\n",
      "|       109653|             73.5|\n",
      "|       190851|            74.25|\n",
      "|       196957|73.33333333333334|\n",
      "|       362212|70.52777777777777|\n",
      "|        26005|             74.0|\n",
      "|         3517|             78.0|\n",
      "+-------------+-----------------+\n",
      "only showing top 10 rows\n",
      "\n"
     ]
    }
   ],
   "source": [
    "strikers.show(10)"
   ]
  },
  {
   "cell_type": "code",
   "execution_count": 32,
   "metadata": {},
   "outputs": [
    {
     "name": "stdout",
     "output_type": "stream",
     "text": [
      "+-------------+------------------+-------------------+------+------+\n",
      "|player_api_id|       player_name|           birthday|height|weight|\n",
      "+-------------+------------------+-------------------+------+------+\n",
      "|       505942|Aaron Appindangoye|1992-02-29 00:00:00|182.88|   187|\n",
      "|       155782|   Aaron Cresswell|1989-12-15 00:00:00|170.18|   146|\n",
      "|       162549|       Aaron Doran|1991-05-13 00:00:00|170.18|   163|\n",
      "|        30572|     Aaron Galindo|1982-05-08 00:00:00|182.88|   198|\n",
      "|        23780|      Aaron Hughes|1979-11-08 00:00:00|182.88|   154|\n",
      "|        27316|        Aaron Hunt|1986-09-04 00:00:00|182.88|   161|\n",
      "|       564793|        Aaron Kuhl|1996-01-30 00:00:00|172.72|   146|\n",
      "|        30895|      Aaron Lennon|1987-04-16 00:00:00| 165.1|   139|\n",
      "|       528212|      Aaron Lennox|1993-02-19 00:00:00| 190.5|   181|\n",
      "|       101042|     Aaron Meijers|1987-10-28 00:00:00|175.26|   170|\n",
      "+-------------+------------------+-------------------+------+------+\n",
      "only showing top 10 rows\n",
      "\n"
     ]
    }
   ],
   "source": [
    "players.show(10)"
   ]
  },
  {
   "cell_type": "code",
   "execution_count": 44,
   "metadata": {},
   "outputs": [],
   "source": [
    "striker_details = players.join(strikers, on = ['player_api_id'])"
   ]
  },
  {
   "cell_type": "code",
   "execution_count": 35,
   "metadata": {},
   "outputs": [
    {
     "name": "stdout",
     "output_type": "stream",
     "text": [
      "+-------------+--------------------+-------------------+------+------+-----------------+\n",
      "|player_api_id|         player_name|           birthday|height|weight|    striker_grade|\n",
      "+-------------+--------------------+-------------------+------+------+-----------------+\n",
      "|       309726|      Andrea Belotti|1993-12-20 00:00:00|180.34|   159|75.38888888888889|\n",
      "|        38433|        Borja Valero|1985-01-12 00:00:00|175.26|   161|          72.5625|\n",
      "|        41157|  Giovani dos Santos|1989-05-11 00:00:00|175.26|   163|             82.0|\n",
      "|        40740|        Jeremy Morel|1984-04-02 00:00:00|172.72|   157|           70.375|\n",
      "|       109653|       John Goossens|1988-07-25 00:00:00|175.26|   150|             73.5|\n",
      "|       190851|        Kenny McLean|1992-01-08 00:00:00|180.34|   154|            74.25|\n",
      "|       196957|Mihai Alexandru R...|1992-05-31 00:00:00| 190.5|   176|73.33333333333334|\n",
      "|       362212|     Piotr Zielinski|1994-05-20 00:00:00|180.34|   165|70.52777777777777|\n",
      "|        26005|    Thomas Vermaelen|1985-11-14 00:00:00|182.88|   176|             74.0|\n",
      "|         3517|  Alexandr Kerzhakov|1982-11-27 00:00:00|175.26|   168|             78.0|\n",
      "+-------------+--------------------+-------------------+------+------+-----------------+\n",
      "only showing top 10 rows\n",
      "\n"
     ]
    }
   ],
   "source": [
    "striker_details.show(10)"
   ]
  },
  {
   "cell_type": "markdown",
   "metadata": {},
   "source": [
    "# using broadcast to speed up join\n",
    "Broadcasting smaller dataframe will cache it in the worker, hence making the join faster. Broadcast variable are read only"
   ]
  },
  {
   "cell_type": "code",
   "execution_count": 37,
   "metadata": {},
   "outputs": [],
   "source": [
    "from pyspark.sql.functions import broadcast"
   ]
  },
  {
   "cell_type": "code",
   "execution_count": 45,
   "metadata": {},
   "outputs": [],
   "source": [
    "sriker_details = players.select(\n",
    "    \"player_api_id\",\n",
    "    \"player_name\"\n",
    ").join(\n",
    "    broadcast(strikers),\n",
    "    on = ['player_api_id'],\n",
    "    how = 'inner'\n",
    ")"
   ]
  },
  {
   "cell_type": "code",
   "execution_count": 47,
   "metadata": {},
   "outputs": [],
   "source": [
    "striker_details = striker_details.sort(striker_details['striker_grade'].desc())"
   ]
  },
  {
   "cell_type": "code",
   "execution_count": 49,
   "metadata": {},
   "outputs": [
    {
     "name": "stdout",
     "output_type": "stream",
     "text": [
      "+-------------+--------------------+-------------------+------+------+-----------------+\n",
      "|player_api_id|         player_name|           birthday|height|weight|    striker_grade|\n",
      "+-------------+--------------------+-------------------+------+------+-----------------+\n",
      "|        20276|                Hulk|1986-07-25 00:00:00|180.34|   187|            89.25|\n",
      "|        37412|       Sergio Aguero|1988-06-02 00:00:00|172.72|   163|             89.0|\n",
      "|        38817|        Carlos Tevez|1984-02-05 00:00:00|172.72|   157|            88.75|\n",
      "|        32118|      Lukas Podolski|1985-06-04 00:00:00|182.88|   183|            88.25|\n",
      "|        31921|         Gareth Bale|1989-07-16 00:00:00|182.88|   163|             87.0|\n",
      "|        30834|        Arjen Robben|1984-01-23 00:00:00|180.34|   176|            86.75|\n",
      "|       303824|       Memphis Depay|1994-02-13 00:00:00|175.26|   172|85.10714285714286|\n",
      "|       129944|          Marco Reus|1989-05-31 00:00:00|180.34|   165|             85.0|\n",
      "|       158263|        Dorlan Pabon|1988-01-24 00:00:00|167.64|   161|            84.75|\n",
      "|       150565|Pierre-Emerick Au...|1989-06-18 00:00:00|187.96|   176|            84.75|\n",
      "+-------------+--------------------+-------------------+------+------+-----------------+\n",
      "only showing top 10 rows\n",
      "\n"
     ]
    }
   ],
   "source": [
    "striker_details.show(10)"
   ]
  },
  {
   "cell_type": "markdown",
   "metadata": {},
   "source": [
    "# finding correlation of height with header accuracy (use of accumulators)"
   ]
  },
  {
   "cell_type": "code",
   "execution_count": 50,
   "metadata": {},
   "outputs": [],
   "source": [
    "player_heading_acc = player_attribute.select('player_api_id','heading_accuracy').join(\n",
    "    broadcast(players),\n",
    "    ['player_api_id'],\n",
    "    'inner'\n",
    ")"
   ]
  },
  {
   "cell_type": "code",
   "execution_count": 51,
   "metadata": {},
   "outputs": [
    {
     "data": {
      "text/plain": [
       "['player_api_id',\n",
       " 'heading_accuracy',\n",
       " 'player_name',\n",
       " 'birthday',\n",
       " 'height',\n",
       " 'weight']"
      ]
     },
     "execution_count": 51,
     "metadata": {},
     "output_type": "execute_result"
    }
   ],
   "source": [
    "player_heading_acc.columns"
   ]
  },
  {
   "cell_type": "code",
   "execution_count": 66,
   "metadata": {},
   "outputs": [],
   "source": [
    "short_count = spark.sparkContext.accumulator(0)\n",
    "medium_low_count = spark.sparkContext.accumulator(0)\n",
    "medium_high_count = spark.sparkContext.accumulator(0)\n",
    "high_count = spark.sparkContext.accumulator(0)"
   ]
  },
  {
   "cell_type": "code",
   "execution_count": 67,
   "metadata": {},
   "outputs": [],
   "source": [
    "def count_players_by_height(row):\n",
    "    height = float(row['height'])\n",
    "    \n",
    "    if height<=175:\n",
    "        short_count.add(1)\n",
    "    elif height<=183 and height>175:\n",
    "        medium_low_count.add(1)\n",
    "    elif height<=195 and height>183:\n",
    "        medium_high_count.add(1)\n",
    "    else:\n",
    "        high_count.add(1)"
   ]
  },
  {
   "cell_type": "code",
   "execution_count": 68,
   "metadata": {},
   "outputs": [],
   "source": [
    "player_heading_acc.foreach(lambda x: count_players_by_height(x))"
   ]
  },
  {
   "cell_type": "code",
   "execution_count": 56,
   "metadata": {},
   "outputs": [
    {
     "data": {
      "text/plain": [
       "(18977, 97399, 97399, 3371)"
      ]
     },
     "execution_count": 56,
     "metadata": {},
     "output_type": "execute_result"
    }
   ],
   "source": [
    "short_count.value, medium_low_count.value, medium_low_count.value, high_count.value"
   ]
  },
  {
   "cell_type": "code",
   "execution_count": 69,
   "metadata": {},
   "outputs": [],
   "source": [
    "ha_short_count = spark.sparkContext.accumulator(0)\n",
    "ha_medium_low_count = spark.sparkContext.accumulator(0)\n",
    "ha_medium_high_count = spark.sparkContext.accumulator(0)\n",
    "ha_high_count = spark.sparkContext.accumulator(0)"
   ]
  },
  {
   "cell_type": "code",
   "execution_count": 70,
   "metadata": {},
   "outputs": [],
   "source": [
    "def count_players_by_height_accuracy(row, threshold):\n",
    "    height = float(row['height'])\n",
    "    ha = float(row['heading_accuracy'])\n",
    "    if ha<=threshold:\n",
    "        return\n",
    "    if height<=175:\n",
    "        ha_short_count.add(1)\n",
    "    elif height<=183 and height>175:\n",
    "        ha_medium_low_count.add(1)\n",
    "    elif height<=195 and height>183:\n",
    "        ha_medium_high_count.add(1)\n",
    "    else:\n",
    "        ha_high_count.add(1)"
   ]
  },
  {
   "cell_type": "code",
   "execution_count": 71,
   "metadata": {},
   "outputs": [],
   "source": [
    "player_heading_acc.foreach(lambda x: count_players_by_height_accuracy(x,75))"
   ]
  },
  {
   "cell_type": "code",
   "execution_count": 78,
   "metadata": {},
   "outputs": [
    {
     "data": {
      "text/plain": [
       "(0.005849185856563208,\n",
       " 0.0522592634421298,\n",
       " 0.1929679118306837,\n",
       " 0.24503114802729162)"
      ]
     },
     "execution_count": 78,
     "metadata": {},
     "output_type": "execute_result"
    }
   ],
   "source": [
    "ha_short_count.value/short_count.value, ha_medium_low_count.value/medium_low_count.value, ha_medium_high_count.value/medium_high_count.value,ha_high_count.value/high_count.value"
   ]
  },
  {
   "cell_type": "code",
   "execution_count": null,
   "metadata": {},
   "outputs": [],
   "source": []
  }
 ],
 "metadata": {
  "kernelspec": {
   "display_name": "python3.8",
   "language": "python",
   "name": "python3.8"
  },
  "language_info": {
   "codemirror_mode": {
    "name": "ipython",
    "version": 3
   },
   "file_extension": ".py",
   "mimetype": "text/x-python",
   "name": "python",
   "nbconvert_exporter": "python",
   "pygments_lexer": "ipython3",
   "version": "3.8.0"
  }
 },
 "nbformat": 4,
 "nbformat_minor": 2
}
